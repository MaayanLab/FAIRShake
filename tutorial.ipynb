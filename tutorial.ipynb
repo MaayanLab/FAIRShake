{
 "cells": [
  {
   "cell_type": "markdown",
   "metadata": {},
   "source": [
    "# Using FAIRshake API\n",
    "\n",
    "This notebook walks through using FAIRshake API with coreapi's python implementation, it works just as easily in javascript or any language with a coreapi implementation. Given that swagger is also exposed at <https://fairshake.cloud/api/?format=openapi>, a swagger-based client can *also* be used.\n",
    "\n",
    "For more information, refer to the documentation at https://fairshake.cloud/api/coreapi/\n",
    "\n",
    "Dependencies:\n",
    "`pip install coreapi-cli`"
   ]
  },
  {
   "cell_type": "code",
   "execution_count": 1,
   "metadata": {},
   "outputs": [],
   "source": [
    "import coreapi\n",
    "\n",
    "client = coreapi.Client()\n",
    "\n",
    "url = 'http://localhost:8000'\n",
    "\n",
    "schema = client.get(url + '/v2/coreapi/')"
   ]
  },
  {
   "cell_type": "markdown",
   "metadata": {},
   "source": [
    "## Step 1. Authentication"
   ]
  },
  {
   "cell_type": "markdown",
   "metadata": {},
   "source": [
    "If you don't already have a user registered with FAIRshake, you need to create one. This can be done manually at <https://fairshake.cloud/accounts/signup/> or, through the API itself, this returns the API key for your account.\n",
    "\n",
    "**Note**: Authentication is only required if you plan on *creating*/*changing* things. Read-access is available without authentication."
   ]
  },
  {
   "cell_type": "code",
   "execution_count": 2,
   "metadata": {},
   "outputs": [],
   "source": [
    "# Set these to create/login to your own account\n",
    "your_username = 'test'\n",
    "your_password = 'my_test_pass'\n",
    "# Set to True if you've already registered\n",
    "registered = True"
   ]
  },
  {
   "cell_type": "code",
   "execution_count": 3,
   "metadata": {},
   "outputs": [],
   "source": [
    "if not registered:\n",
    "    results = client.action(\n",
    "        schema,\n",
    "        ['auth', 'registration', 'create'],\n",
    "        dict(\n",
    "            username=your_username,\n",
    "            password1=your_password,\n",
    "            password2=your_password,\n",
    "        ),\n",
    "    )\n",
    "    registered = True"
   ]
  },
  {
   "cell_type": "markdown",
   "metadata": {},
   "source": [
    "If you already have an account, you can login through the API as well to obtain your API key."
   ]
  },
  {
   "cell_type": "code",
   "execution_count": 4,
   "metadata": {},
   "outputs": [
    {
     "data": {
      "text/plain": [
       "OrderedDict([('key', 'fbc6f7f16f2adbb18181ac8852b9674450d519da')])"
      ]
     },
     "execution_count": 4,
     "metadata": {},
     "output_type": "execute_result"
    }
   ],
   "source": [
    "results = client.action(\n",
    "    schema,\n",
    "    ['auth', 'login', 'create'],\n",
    "    dict(\n",
    "        username=your_username,\n",
    "        password=your_password,\n",
    "    )\n",
    ")\n",
    "api_key = results['key']\n",
    "results"
   ]
  },
  {
   "cell_type": "markdown",
   "metadata": {},
   "source": [
    "Now that we have our API key, we can reinstantiate our Client with an authenticated transport layer."
   ]
  },
  {
   "cell_type": "code",
   "execution_count": 5,
   "metadata": {},
   "outputs": [],
   "source": [
    "client = coreapi.Client(auth=coreapi.auth.TokenAuthentication(token=api_key, scheme='token'))\n",
    "schema = client.get(url + '/v2/coreapi/')"
   ]
  },
  {
   "cell_type": "markdown",
   "metadata": {},
   "source": [
    "We can test that it worked by reading information about the logged in user."
   ]
  },
  {
   "cell_type": "code",
   "execution_count": 6,
   "metadata": {},
   "outputs": [
    {
     "data": {
      "text/plain": [
       "OrderedDict([('pk', 2),\n",
       "             ('username', 'test'),\n",
       "             ('email', ''),\n",
       "             ('first_name', ''),\n",
       "             ('last_name', '')])"
      ]
     },
     "execution_count": 6,
     "metadata": {},
     "output_type": "execute_result"
    }
   ],
   "source": [
    "client.action(\n",
    "    schema,\n",
    "    ['auth', 'user', 'read'],\n",
    ")"
   ]
  },
  {
   "cell_type": "markdown",
   "metadata": {},
   "source": [
    "## Step 2. Project, Digital Object, Rubric, Metric Management"
   ]
  },
  {
   "cell_type": "markdown",
   "metadata": {},
   "source": [
    "All elements expose themselves in the same way with a common set of attributes for search and identification with a few extra attributes distinguishing each element.\n",
    "\n",
    "Here, quite simply, is the gist of these data models:\n",
    "\n",
    "```python\n",
    "class Identifiable:\n",
    "  id: int\n",
    "  url: str\n",
    "  title: str\n",
    "  description: str\n",
    "  image: str\n",
    "  tags: str\n",
    "  type: ['', 'any', 'data', 'repo', 'test', 'tool']\n",
    "  authors: Author[]\n",
    "\n",
    "class Project(Identifiable):\n",
    "  digital_objects: DigitalObject[]\n",
    "\n",
    "class DigitalObject(Identifiable):\n",
    "  rubrics: Rubric[]\n",
    "\n",
    "class Rubric(Identifiable):\n",
    "  license: str\n",
    "  metrics: Metric[]\n",
    "\n",
    "class Metric(Identifiable):\n",
    "  license: str\n",
    "  rationale: str\n",
    "  principle: str\n",
    "  fairmetrics: str\n",
    "  fairsharing: str\n",
    "```\n",
    "\n",
    "Queries can be made by providing any of the parameters and we'll return the subset of the database which satisfies those parameter constraints. Though you use `title=something` we do a fuzzy search if it makes sense to do so. More find-tuned queries are actually supported by the API but not yet documented which would allow for django-style filters e.g. `title__contains=something`.\n",
    "\n",
    "**Note**: Results are paginated; use `params={'page': n}` to go through pages"
   ]
  },
  {
   "cell_type": "code",
   "execution_count": 7,
   "metadata": {},
   "outputs": [
    {
     "data": {
      "text/plain": [
       "OrderedDict([('count', 9),\n",
       "             ('next', None),\n",
       "             ('previous', None),\n",
       "             ('results',\n",
       "              [OrderedDict([('id', 1),\n",
       "                            ('uri', None),\n",
       "                            ('minid', 'http://minid/000000'),\n",
       "                            ('url', 'http://my-objects.com'),\n",
       "                            ('title', 'My Project'),\n",
       "                            ('description', 'Project is great'),\n",
       "                            ('image', None),\n",
       "                            ('tags', 'my project test'),\n",
       "                            ('authors', [2]),\n",
       "                            ('digital_objects', [1])]),\n",
       "               OrderedDict([('id', 2),\n",
       "                            ('uri', 'a'),\n",
       "                            ('minid', 'a'),\n",
       "                            ('url', 'http://maayanlab.com'),\n",
       "                            ('title', 'a'),\n",
       "                            ('description', ''),\n",
       "                            ('image', ''),\n",
       "                            ('tags', ''),\n",
       "                            ('authors', [2]),\n",
       "                            ('digital_objects', [1])]),\n",
       "               OrderedDict([('id', 3),\n",
       "                            ('uri', None),\n",
       "                            ('minid', 'http://minid/000000'),\n",
       "                            ('url', 'http://my-objects.com'),\n",
       "                            ('title', 'My Project'),\n",
       "                            ('description', 'Project is great'),\n",
       "                            ('image', None),\n",
       "                            ('tags', 'my project test'),\n",
       "                            ('authors', [2]),\n",
       "                            ('digital_objects', [2])]),\n",
       "               OrderedDict([('id', 4),\n",
       "                            ('uri', None),\n",
       "                            ('minid', 'http://minid/000000'),\n",
       "                            ('url', 'http://my-objects.com'),\n",
       "                            ('title', 'My Project'),\n",
       "                            ('description', 'Project is great'),\n",
       "                            ('image', None),\n",
       "                            ('tags', 'my project test'),\n",
       "                            ('authors', [2]),\n",
       "                            ('digital_objects', [3])]),\n",
       "               OrderedDict([('id', 5),\n",
       "                            ('uri', None),\n",
       "                            ('minid', 'http://minid/000000'),\n",
       "                            ('url', 'http://my-objects.com'),\n",
       "                            ('title', 'My Project'),\n",
       "                            ('description', 'Project is great'),\n",
       "                            ('image', None),\n",
       "                            ('tags', 'my project test'),\n",
       "                            ('authors', [2]),\n",
       "                            ('digital_objects', [4])]),\n",
       "               OrderedDict([('id', 6),\n",
       "                            ('uri', None),\n",
       "                            ('minid', 'http://minid/000000'),\n",
       "                            ('url', 'http://my-objects.com'),\n",
       "                            ('title', 'My Project'),\n",
       "                            ('description', 'Project is great'),\n",
       "                            ('image', None),\n",
       "                            ('tags', 'my project test'),\n",
       "                            ('authors', [2]),\n",
       "                            ('digital_objects', [5])]),\n",
       "               OrderedDict([('id', 7),\n",
       "                            ('uri', None),\n",
       "                            ('minid', 'http://minid/000000'),\n",
       "                            ('url', 'http://my-objects.com'),\n",
       "                            ('title', 'My Project'),\n",
       "                            ('description', 'Project is great'),\n",
       "                            ('image', None),\n",
       "                            ('tags', 'my project test'),\n",
       "                            ('authors', [2]),\n",
       "                            ('digital_objects', [6])]),\n",
       "               OrderedDict([('id', 8),\n",
       "                            ('uri', None),\n",
       "                            ('minid', 'http://minid/000000'),\n",
       "                            ('url', 'http://my-objects.com'),\n",
       "                            ('title', 'My Project'),\n",
       "                            ('description', 'Project is great'),\n",
       "                            ('image', None),\n",
       "                            ('tags', 'my project test'),\n",
       "                            ('authors', [2]),\n",
       "                            ('digital_objects', [7])]),\n",
       "               OrderedDict([('id', 9),\n",
       "                            ('uri', None),\n",
       "                            ('minid', 'http://minid/000000'),\n",
       "                            ('url', 'http://my-objects.com'),\n",
       "                            ('title', 'My Project'),\n",
       "                            ('description', 'Project is great'),\n",
       "                            ('image', None),\n",
       "                            ('tags', 'my project test'),\n",
       "                            ('authors', [2]),\n",
       "                            ('digital_objects', [8])])])])"
      ]
     },
     "execution_count": 7,
     "metadata": {},
     "output_type": "execute_result"
    }
   ],
   "source": [
    "# List all projects\n",
    "client.action(schema, ['project', 'list'])"
   ]
  },
  {
   "cell_type": "code",
   "execution_count": 8,
   "metadata": {},
   "outputs": [
    {
     "data": {
      "text/plain": [
       "OrderedDict([('count', 0),\n",
       "             ('next', None),\n",
       "             ('previous', None),\n",
       "             ('results', [])])"
      ]
     },
     "execution_count": 8,
     "metadata": {},
     "output_type": "execute_result"
    }
   ],
   "source": [
    "# List all Digital objects of type Tool\n",
    "client.action(schema, ['digital_object', 'list'], params=dict(type='tool'))"
   ]
  },
  {
   "cell_type": "code",
   "execution_count": 9,
   "metadata": {},
   "outputs": [
    {
     "data": {
      "text/plain": [
       "OrderedDict([('id', 9),\n",
       "             ('uri', None),\n",
       "             ('minid', 'http://minid/00001'),\n",
       "             ('url', 'http://my-objects.com/00001'),\n",
       "             ('title', 'My Object'),\n",
       "             ('description', 'Object is great'),\n",
       "             ('image', None),\n",
       "             ('tags', 'my object test'),\n",
       "             ('type', 'tool'),\n",
       "             ('authors', [2]),\n",
       "             ('rubrics', [])])"
      ]
     },
     "execution_count": 9,
     "metadata": {},
     "output_type": "execute_result"
    }
   ],
   "source": [
    "# Create a digital object\n",
    "obj = client.action(schema, ['digital_object', 'create'], params=dict(\n",
    "  minid='http://minid/00001',\n",
    "  url='http://my-objects.com/00001',\n",
    "  title='My Object',\n",
    "  description='Object is great',\n",
    "  tags='my object test',\n",
    "  type='tool',\n",
    "))\n",
    "obj_id = obj['id']\n",
    "obj"
   ]
  },
  {
   "cell_type": "code",
   "execution_count": 10,
   "metadata": {},
   "outputs": [
    {
     "data": {
      "text/plain": [
       "OrderedDict([('id', 10),\n",
       "             ('uri', None),\n",
       "             ('minid', 'http://minid/000000'),\n",
       "             ('url', 'http://my-objects.com'),\n",
       "             ('title', 'My Project'),\n",
       "             ('description', 'Project is great'),\n",
       "             ('image', None),\n",
       "             ('tags', 'my project test'),\n",
       "             ('authors', [2]),\n",
       "             ('digital_objects', [9])])"
      ]
     },
     "execution_count": 10,
     "metadata": {},
     "output_type": "execute_result"
    }
   ],
   "source": [
    "# Create a project\n",
    "proj = client.action(schema, ['project', 'create'], params=dict(\n",
    "  minid='http://minid/000000',\n",
    "  url='http://my-objects.com',\n",
    "  title='My Project',\n",
    "  description='Project is great',\n",
    "  tags='my project test',\n",
    "  digital_objects=[obj_id],\n",
    "))\n",
    "proj_id = proj['id']\n",
    "proj"
   ]
  },
  {
   "cell_type": "code",
   "execution_count": 11,
   "metadata": {},
   "outputs": [
    {
     "data": {
      "text/plain": [
       "OrderedDict([('id', 9),\n",
       "             ('uri', None),\n",
       "             ('minid', None),\n",
       "             ('url', None),\n",
       "             ('title', 'My Metric'),\n",
       "             ('description', 'It has a url'),\n",
       "             ('image', None),\n",
       "             ('tags', 'my project test'),\n",
       "             ('type', 'url'),\n",
       "             ('license', 'MIT'),\n",
       "             ('rationale', 'https://fairrationals.com/test'),\n",
       "             ('principle', 'https://fairprincipals.com/test'),\n",
       "             ('fairmetrics', None),\n",
       "             ('fairsharing', None),\n",
       "             ('authors', [2])])"
      ]
     },
     "execution_count": 11,
     "metadata": {},
     "output_type": "execute_result"
    }
   ],
   "source": [
    "# Create a metric\n",
    "metric = client.action(schema, ['metric', 'create'], params=dict(\n",
    "  title='My Metric',\n",
    "  description='It has a url',\n",
    "  type='url',\n",
    "  tags='my project test',\n",
    "  license='MIT',\n",
    "  rationale='https://fairrationals.com/test',\n",
    "  principle='https://fairprincipals.com/test',\n",
    "))\n",
    "metric_id = metric['id']\n",
    "metric"
   ]
  },
  {
   "cell_type": "code",
   "execution_count": 12,
   "metadata": {},
   "outputs": [
    {
     "data": {
      "text/plain": [
       "OrderedDict([('id', 9),\n",
       "             ('uri', None),\n",
       "             ('minid', None),\n",
       "             ('url', None),\n",
       "             ('title', 'My Rubric'),\n",
       "             ('description', 'Rubric is great'),\n",
       "             ('image', None),\n",
       "             ('tags', 'my project test'),\n",
       "             ('type', 'tool'),\n",
       "             ('license', 'MIT'),\n",
       "             ('authors', [2]),\n",
       "             ('metrics', [9])])"
      ]
     },
     "execution_count": 12,
     "metadata": {},
     "output_type": "execute_result"
    }
   ],
   "source": [
    "# Create a rubric\n",
    "rubric = client.action(schema, ['rubric', 'create'], params=dict(\n",
    "  title='My Rubric',\n",
    "  description='Rubric is great',\n",
    "  tags='my project test',\n",
    "  type='tool',\n",
    "  license='MIT',\n",
    "  metrics=[\n",
    "      metric_id,\n",
    "  ],\n",
    "))\n",
    "rubric_id = rubric['id']\n",
    "rubric"
   ]
  },
  {
   "cell_type": "code",
   "execution_count": 13,
   "metadata": {},
   "outputs": [],
   "source": [
    "# Associate digital object with a rubric (Future)\n",
    "# client.action(schema, ['digital_object', 'partial_update'], params=dict(\n",
    "#   id=obj_id,\n",
    "#   rubrics=[rubric_id],\n",
    "# ))"
   ]
  },
  {
   "cell_type": "markdown",
   "metadata": {},
   "source": [
    "# Performing Assessments\n",
    "\n",
    "```python\n",
    "class Assessment:\n",
    "  project: Project\n",
    "  target: DigitalObject\n",
    "  rubric: Rubric\n",
    "  methodology: ['self', 'user', 'auto', 'test']\n",
    "  answers: Answer[]\n",
    "\n",
    "class Answer:\n",
    "  metric: Metric\n",
    "  answer: str\n",
    "  comment: str\n",
    "  url_comment: str\n",
    "```"
   ]
  },
  {
   "cell_type": "code",
   "execution_count": 14,
   "metadata": {},
   "outputs": [
    {
     "data": {
      "text/plain": [
       "OrderedDict([('id', 11),\n",
       "             ('project', 10),\n",
       "             ('target', 9),\n",
       "             ('rubric', 9),\n",
       "             ('answers',\n",
       "              [OrderedDict([('id', 10),\n",
       "                            ('answer', 'http://my_url.com'),\n",
       "                            ('comment', None),\n",
       "                            ('url_comment', None),\n",
       "                            ('assessment', 11),\n",
       "                            ('metric', 9)])]),\n",
       "             ('methodology', 'test'),\n",
       "             ('requestor', None),\n",
       "             ('assessor', 'test'),\n",
       "             ('timestamp', '2018-07-27T17:36:14.946277Z')])"
      ]
     },
     "execution_count": 14,
     "metadata": {},
     "output_type": "execute_result"
    }
   ],
   "source": [
    "# Create an assessment\n",
    "client.action(schema, ['assessment', 'create'], params=dict(\n",
    "  project=proj_id,\n",
    "  target=obj_id,\n",
    "  rubric=rubric_id,\n",
    "  methodology='test',\n",
    "  answers=[\n",
    "      {\n",
    "          'metric': metric_id,\n",
    "          'answer': 'http://my_url.com',\n",
    "      },\n",
    "  ],\n",
    "))"
   ]
  },
  {
   "cell_type": "markdown",
   "metadata": {},
   "source": [
    "## Obtaining the score of a Digital Object"
   ]
  },
  {
   "cell_type": "code",
   "execution_count": 15,
   "metadata": {},
   "outputs": [
    {
     "data": {
      "text/plain": [
       "OrderedDict([('9', OrderedDict([('9', 1.0)]))])"
      ]
     },
     "execution_count": 15,
     "metadata": {},
     "output_type": "execute_result"
    }
   ],
   "source": [
    "score = client.action(schema, ['score', 'list'], params=dict(target=obj_id))\n",
    "score"
   ]
  },
  {
   "cell_type": "markdown",
   "metadata": {},
   "source": [
    "## Displaying FAIR insignia"
   ]
  },
  {
   "cell_type": "markdown",
   "metadata": {},
   "source": [
    "The insignia client library exposes a function, `build_svg` which accepts a container and the score dict.\n",
    "\n",
    "**Note**: tooltip information is written into the svg and can be instantiated with your favorite tooltip library (e.g. https://getbootstrap.com/docs/4.1/components/tooltips/)"
   ]
  },
  {
   "cell_type": "code",
   "execution_count": 60,
   "metadata": {},
   "outputs": [
    {
     "data": {
      "text/html": [
       "\n",
       "<input\n",
       "    id=\"url-var\"\n",
       "    type=\"text\"\n",
       "    style=\"display: none;\"\n",
       "    value=\"http://localhost:8000\">\n",
       "<textarea\n",
       "    id=\"score-var\"\n",
       "    type=\"text\"\n",
       "    style=\"display: none;\">\n",
       "    {\"9\": {\"9\": 1.0}}</textarea>\n",
       "<div\n",
       "    id=\"insignia-container-1\"\n",
       "    data-target=\"9\"\n",
       "    style=\"width: 40px; height: 40px; border: 0px solid black\" />\n"
      ],
      "text/plain": [
       "<IPython.core.display.HTML object>"
      ]
     },
     "execution_count": 60,
     "metadata": {},
     "output_type": "execute_result"
    }
   ],
   "source": [
    "import json\n",
    "from IPython.display import HTML\n",
    "HTML('''\n",
    "<input\n",
    "    id=\"url-var\"\n",
    "    type=\"text\"\n",
    "    style=\"display: none;\"\n",
    "    value=\"{url}\">\n",
    "<textarea\n",
    "    id=\"score-var\"\n",
    "    type=\"text\"\n",
    "    style=\"display: none;\">\n",
    "    {score}</textarea>\n",
    "<div\n",
    "    id=\"insignia-container-1\"\n",
    "    data-target=\"{obj_id}\"\n",
    "    style=\"width: 40px; height: 40px; border: 0px solid black\" />\n",
    "'''.format(url=url, obj_id=obj_id, score=json.dumps(score)))"
   ]
  },
  {
   "cell_type": "code",
   "execution_count": 61,
   "metadata": {},
   "outputs": [
    {
     "data": {
      "application/javascript": [
       "require.config({\n",
       "  paths: {\n",
       "    jquery: \"https://code.jquery.com/jquery-3.3.1.min\",\n",
       "  }\n",
       "})\n",
       "require(['jquery'], function($) {\n",
       "    $(function() {\n",
       "        var url = $('#url-var').val()\n",
       "        var score = JSON.parse($('#score-var').val())\n",
       "        require([\n",
       "            url + '/static/v2/scripts/insignia.js',\n",
       "        ], function(insignia) {\n",
       "            insignia.build_svg('#insignia-container-1', {1:{2:1, 3: -1, 4: 1, 5: -1, 6: 0, 7: 1, 8: 0, 9: 1, 10: 0}})\n",
       "        })\n",
       "    })\n",
       "})"
      ],
      "text/plain": [
       "<IPython.core.display.Javascript object>"
      ]
     },
     "metadata": {},
     "output_type": "display_data"
    }
   ],
   "source": [
    "%%javascript\n",
    "require.config({\n",
    "  paths: {\n",
    "    jquery: \"https://code.jquery.com/jquery-3.3.1.min\",\n",
    "  }\n",
    "})\n",
    "require(['jquery'], function($) {\n",
    "    $(function() {\n",
    "        var url = $('#url-var').val()\n",
    "        var score = JSON.parse($('#score-var').val())\n",
    "        require([\n",
    "            url + '/v2/static/scripts/insignia.js',\n",
    "        ], function(insignia) {\n",
    "            insignia.build_svg('#insignia-container-1', score)\n",
    "        })\n",
    "    })\n",
    "})"
   ]
  },
  {
   "cell_type": "code",
   "execution_count": null,
   "metadata": {},
   "outputs": [],
   "source": []
  }
 ],
 "metadata": {
  "kernelspec": {
   "display_name": "Python 3",
   "language": "python",
   "name": "python3"
  },
  "language_info": {
   "codemirror_mode": {
    "name": "ipython",
    "version": 3
   },
   "file_extension": ".py",
   "mimetype": "text/x-python",
   "name": "python",
   "nbconvert_exporter": "python",
   "pygments_lexer": "ipython3",
   "version": "3.6.1"
  }
 },
 "nbformat": 4,
 "nbformat_minor": 2
}
